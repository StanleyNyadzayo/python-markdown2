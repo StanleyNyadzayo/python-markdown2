{
  "nbformat": 4,
  "nbformat_minor": 0,
  "metadata": {
    "colab": {
      "provenance": [],
      "authorship_tag": "ABX9TyOqnwV55V1Xrcts5Iu0DO+J",
      "include_colab_link": true
    },
    "kernelspec": {
      "name": "python3",
      "display_name": "Python 3"
    },
    "language_info": {
      "name": "python"
    }
  },
  "cells": [
    {
      "cell_type": "markdown",
      "metadata": {
        "id": "view-in-github",
        "colab_type": "text"
      },
      "source": [
        "<a href=\"https://colab.research.google.com/github/StanleyNyadzayo/python-markdown2/blob/master/lab4.ipynb\" target=\"_parent\"><img src=\"https://colab.research.google.com/assets/colab-badge.svg\" alt=\"Open In Colab\"/></a>"
      ]
    },
    {
      "cell_type": "code",
      "execution_count": 1,
      "metadata": {
        "colab": {
          "base_uri": "https://localhost:8080/"
        },
        "id": "_OTqRERykPOa",
        "outputId": "d6707782-35b3-4585-d3d8-32923c859942"
      },
      "outputs": [
        {
          "output_type": "stream",
          "name": "stdout",
          "text": [
            "Requirement already satisfied: pyspark in /usr/local/lib/python3.12/dist-packages (3.5.1)\n",
            "Requirement already satisfied: py4j==0.10.9.7 in /usr/local/lib/python3.12/dist-packages (from pyspark) (0.10.9.7)\n"
          ]
        }
      ],
      "source": [
        "pip install pyspark"
      ]
    },
    {
      "cell_type": "code",
      "source": [
        "!pip install findspark\n",
        "import findspark\n"
      ],
      "metadata": {
        "colab": {
          "base_uri": "https://localhost:8080/"
        },
        "id": "NwbJNUT2kW6l",
        "outputId": "0a7bf711-22af-4a73-a58a-c0bddd5368e3"
      },
      "execution_count": 3,
      "outputs": [
        {
          "output_type": "stream",
          "name": "stdout",
          "text": [
            "Collecting findspark\n",
            "  Downloading findspark-2.0.1-py2.py3-none-any.whl.metadata (352 bytes)\n",
            "Downloading findspark-2.0.1-py2.py3-none-any.whl (4.4 kB)\n",
            "Installing collected packages: findspark\n",
            "Successfully installed findspark-2.0.1\n"
          ]
        }
      ]
    },
    {
      "cell_type": "code",
      "source": [
        "from pyspark.sql import SparkSession\n",
        "spark = SparkSession.builder.master(\"local[*]\").getOrCreate()"
      ],
      "metadata": {
        "id": "Fa5JYao_kcUI"
      },
      "execution_count": 4,
      "outputs": []
    },
    {
      "cell_type": "code",
      "metadata": {
        "colab": {
          "base_uri": "https://localhost:8080/"
        },
        "id": "e78f48a6",
        "outputId": "82e279a9-2a2b-4f69-bd5d-14c7cb45cbc4"
      },
      "source": [
        "from google.colab import drive\n",
        "drive.mount('/content/drive')"
      ],
      "execution_count": 12,
      "outputs": [
        {
          "output_type": "stream",
          "name": "stdout",
          "text": [
            "Mounted at /content/drive\n"
          ]
        }
      ]
    },
    {
      "cell_type": "code",
      "source": [
        "df = spark.read.json(\"/content/drive/MyDrive/Colab Notebooks/data.json\")\n",
        "df.show()"
      ],
      "metadata": {
        "colab": {
          "base_uri": "https://localhost:8080/"
        },
        "id": "jYA9lsynnlBY",
        "outputId": "6dd89520-9bf2-421e-d4b4-5ddd9f1aef4a"
      },
      "execution_count": 14,
      "outputs": [
        {
          "output_type": "stream",
          "name": "stdout",
          "text": [
            "+----+------+\n",
            "| age|  name|\n",
            "+----+------+\n",
            "|NULL|  Carl|\n",
            "|  30|Rachel|\n",
            "|  19|  Paul|\n",
            "+----+------+\n",
            "\n"
          ]
        }
      ]
    },
    {
      "cell_type": "code",
      "source": [
        "df.printSchema()"
      ],
      "metadata": {
        "colab": {
          "base_uri": "https://localhost:8080/"
        },
        "id": "RHegsmu2oFG_",
        "outputId": "99bbf803-4315-4608-bea2-8a692d5cb65f"
      },
      "execution_count": 15,
      "outputs": [
        {
          "output_type": "stream",
          "name": "stdout",
          "text": [
            "root\n",
            " |-- age: long (nullable = true)\n",
            " |-- name: string (nullable = true)\n",
            "\n"
          ]
        }
      ]
    },
    {
      "cell_type": "code",
      "source": [
        "df.columns"
      ],
      "metadata": {
        "colab": {
          "base_uri": "https://localhost:8080/"
        },
        "id": "HG3LvaYyobc8",
        "outputId": "dbd1191f-7d9e-4618-8047-7889b026e30c"
      },
      "execution_count": 16,
      "outputs": [
        {
          "output_type": "execute_result",
          "data": {
            "text/plain": [
              "['age', 'name']"
            ]
          },
          "metadata": {},
          "execution_count": 16
        }
      ]
    },
    {
      "cell_type": "code",
      "source": [
        "from pyspark.sql.types import (StructField, StringType, IntegerType, StructType)\n",
        "data_schema = [StructField('age', IntegerType(), True), StructField('name', StringType(), True)]\n",
        "final_structure = StructType(fields = data_schema)\n",
        "df = spark.read.json(\"/content/drive/MyDrive/Colab Notebooks/data.json\", schema=final_structure)\n",
        "df.printSchema()\n",
        "\n",
        "# The data type changed from long to int"
      ],
      "metadata": {
        "colab": {
          "base_uri": "https://localhost:8080/"
        },
        "id": "vZrf6PeIojoh",
        "outputId": "3e217223-67c3-4288-ba81-fd2e6b9cc7f0"
      },
      "execution_count": 22,
      "outputs": [
        {
          "output_type": "stream",
          "name": "stdout",
          "text": [
            "root\n",
            " |-- age: integer (nullable = true)\n",
            " |-- name: string (nullable = true)\n",
            "\n"
          ]
        }
      ]
    },
    {
      "cell_type": "code",
      "source": [
        "df.select('age').show()"
      ],
      "metadata": {
        "colab": {
          "base_uri": "https://localhost:8080/"
        },
        "id": "OaNIqDfXpMFA",
        "outputId": "9f679dd3-aa84-4370-e343-0e01d89dc41f"
      },
      "execution_count": 24,
      "outputs": [
        {
          "output_type": "stream",
          "name": "stdout",
          "text": [
            "+----+\n",
            "| age|\n",
            "+----+\n",
            "|NULL|\n",
            "|  30|\n",
            "|  19|\n",
            "+----+\n",
            "\n"
          ]
        }
      ]
    },
    {
      "cell_type": "code",
      "source": [
        "df.head(3)"
      ],
      "metadata": {
        "colab": {
          "base_uri": "https://localhost:8080/"
        },
        "id": "GbHQimCPr8dN",
        "outputId": "f8f73348-c809-4fd9-caca-9e04aad8827b"
      },
      "execution_count": 25,
      "outputs": [
        {
          "output_type": "execute_result",
          "data": {
            "text/plain": [
              "[Row(age=None, name='Carl'),\n",
              " Row(age=30, name='Rachel'),\n",
              " Row(age=19, name='Paul')]"
            ]
          },
          "metadata": {},
          "execution_count": 25
        }
      ]
    },
    {
      "cell_type": "code",
      "source": [
        "df.head(3)[0]"
      ],
      "metadata": {
        "colab": {
          "base_uri": "https://localhost:8080/"
        },
        "id": "3D5KxHp_sHMn",
        "outputId": "6c395f6d-4e5c-41d8-dfb9-a8a90f20b4e4"
      },
      "execution_count": 26,
      "outputs": [
        {
          "output_type": "execute_result",
          "data": {
            "text/plain": [
              "Row(age=None, name='Carl')"
            ]
          },
          "metadata": {},
          "execution_count": 26
        }
      ]
    },
    {
      "cell_type": "code",
      "source": [
        "df.head(3) [2]\n",
        "# the purpose of .head() method is to retrieve the first n rows of the data frame"
      ],
      "metadata": {
        "colab": {
          "base_uri": "https://localhost:8080/"
        },
        "id": "GYlh6IVKsNCp",
        "outputId": "a5344e90-d40c-4947-9db4-e2959f867e98"
      },
      "execution_count": 27,
      "outputs": [
        {
          "output_type": "execute_result",
          "data": {
            "text/plain": [
              "Row(age=19, name='Paul')"
            ]
          },
          "metadata": {},
          "execution_count": 27
        }
      ]
    },
    {
      "cell_type": "code",
      "source": [
        "df.select(['name', 'age']).show()"
      ],
      "metadata": {
        "colab": {
          "base_uri": "https://localhost:8080/"
        },
        "id": "v_-KzHy2sUSs",
        "outputId": "798fb7b3-f3a3-4476-df79-c576172f7616"
      },
      "execution_count": 28,
      "outputs": [
        {
          "output_type": "stream",
          "name": "stdout",
          "text": [
            "+------+----+\n",
            "|  name| age|\n",
            "+------+----+\n",
            "|  Carl|NULL|\n",
            "|Rachel|  30|\n",
            "|  Paul|  19|\n",
            "+------+----+\n",
            "\n"
          ]
        }
      ]
    },
    {
      "cell_type": "code",
      "source": [
        "df.withColumn('trueage',df['age']).show()"
      ],
      "metadata": {
        "colab": {
          "base_uri": "https://localhost:8080/"
        },
        "id": "qTvzN_Abs4GC",
        "outputId": "e1483714-785a-4124-e8a1-c85e858091e8"
      },
      "execution_count": 30,
      "outputs": [
        {
          "output_type": "stream",
          "name": "stdout",
          "text": [
            "+----+------+-------+\n",
            "| age|  name|trueage|\n",
            "+----+------+-------+\n",
            "|NULL|  Carl|   NULL|\n",
            "|  30|Rachel|     30|\n",
            "|  19|  Paul|     19|\n",
            "+----+------+-------+\n",
            "\n"
          ]
        }
      ]
    },
    {
      "cell_type": "code",
      "source": [
        "df.withColumn('trueage',df['age']+2).show()"
      ],
      "metadata": {
        "colab": {
          "base_uri": "https://localhost:8080/"
        },
        "id": "6yc1dO2HtOX9",
        "outputId": "c5b1e4c5-c6da-48aa-f563-7397284960fd"
      },
      "execution_count": 31,
      "outputs": [
        {
          "output_type": "stream",
          "name": "stdout",
          "text": [
            "+----+------+-------+\n",
            "| age|  name|trueage|\n",
            "+----+------+-------+\n",
            "|NULL|  Carl|   NULL|\n",
            "|  30|Rachel|     32|\n",
            "|  19|  Paul|     21|\n",
            "+----+------+-------+\n",
            "\n"
          ]
        }
      ]
    },
    {
      "cell_type": "code",
      "source": [
        "df.show()"
      ],
      "metadata": {
        "colab": {
          "base_uri": "https://localhost:8080/"
        },
        "id": "Exma2ygotYbF",
        "outputId": "b3d40c89-f551-447a-9a26-239bd6528e10"
      },
      "execution_count": 32,
      "outputs": [
        {
          "output_type": "stream",
          "name": "stdout",
          "text": [
            "+----+------+\n",
            "| age|  name|\n",
            "+----+------+\n",
            "|NULL|  Carl|\n",
            "|  30|Rachel|\n",
            "|  19|  Paul|\n",
            "+----+------+\n",
            "\n"
          ]
        }
      ]
    },
    {
      "cell_type": "code",
      "source": [
        "# Assign the result of withColumn back to df\n",
        "df = df.withColumn('trueage', df['age'] + 2)\n",
        "\n",
        "# Now show the updated DataFrame\n",
        "df.show()"
      ],
      "metadata": {
        "colab": {
          "base_uri": "https://localhost:8080/"
        },
        "id": "wE3NHWebtrTc",
        "outputId": "32c251c6-0be8-4e45-89f9-28c7d3717598"
      },
      "execution_count": 33,
      "outputs": [
        {
          "output_type": "stream",
          "name": "stdout",
          "text": [
            "+----+------+-------+\n",
            "| age|  name|trueage|\n",
            "+----+------+-------+\n",
            "|NULL|  Carl|   NULL|\n",
            "|  30|Rachel|     32|\n",
            "|  19|  Paul|     21|\n",
            "+----+------+-------+\n",
            "\n"
          ]
        }
      ]
    }
  ]
}